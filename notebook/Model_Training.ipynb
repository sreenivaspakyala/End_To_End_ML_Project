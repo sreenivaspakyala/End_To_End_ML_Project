{
 "cells": [
  {
   "cell_type": "markdown",
   "metadata": {},
   "source": [
    "## Model Development"
   ]
  },
  {
   "cell_type": "code",
   "execution_count": 1,
   "metadata": {},
   "outputs": [],
   "source": [
    "# import all required libraries\n",
    "\n",
    "import numpy as np\n",
    "import pandas as pd\n",
    "from sklearn.model_selection import GridSearchCV, train_test_split\n",
    "from sklearn.metrics import r2_score\n",
    "from sklearn.tree import DecisionTreeRegressor\n",
    "from sklearn.linear_model import Lasso, Ridge, LinearRegression\n",
    "from sklearn.neighbors import KNeighborsRegressor\n",
    "from catboost import CatBoostRegressor\n",
    "from xgboost import XGBRegressor\n"
   ]
  },
  {
   "cell_type": "code",
   "execution_count": 2,
   "metadata": {},
   "outputs": [
    {
     "data": {
      "text/html": [
       "<div>\n",
       "<style scoped>\n",
       "    .dataframe tbody tr th:only-of-type {\n",
       "        vertical-align: middle;\n",
       "    }\n",
       "\n",
       "    .dataframe tbody tr th {\n",
       "        vertical-align: top;\n",
       "    }\n",
       "\n",
       "    .dataframe thead th {\n",
       "        text-align: right;\n",
       "    }\n",
       "</style>\n",
       "<table border=\"1\" class=\"dataframe\">\n",
       "  <thead>\n",
       "    <tr style=\"text-align: right;\">\n",
       "      <th></th>\n",
       "      <th>gender</th>\n",
       "      <th>race/ethnicity</th>\n",
       "      <th>parental level of education</th>\n",
       "      <th>lunch</th>\n",
       "      <th>test preparation course</th>\n",
       "      <th>math score</th>\n",
       "      <th>reading score</th>\n",
       "      <th>writing score</th>\n",
       "    </tr>\n",
       "  </thead>\n",
       "  <tbody>\n",
       "    <tr>\n",
       "      <th>0</th>\n",
       "      <td>female</td>\n",
       "      <td>group B</td>\n",
       "      <td>bachelor's degree</td>\n",
       "      <td>standard</td>\n",
       "      <td>none</td>\n",
       "      <td>72</td>\n",
       "      <td>72</td>\n",
       "      <td>74</td>\n",
       "    </tr>\n",
       "    <tr>\n",
       "      <th>1</th>\n",
       "      <td>female</td>\n",
       "      <td>group C</td>\n",
       "      <td>some college</td>\n",
       "      <td>standard</td>\n",
       "      <td>completed</td>\n",
       "      <td>69</td>\n",
       "      <td>90</td>\n",
       "      <td>88</td>\n",
       "    </tr>\n",
       "    <tr>\n",
       "      <th>2</th>\n",
       "      <td>female</td>\n",
       "      <td>group B</td>\n",
       "      <td>master's degree</td>\n",
       "      <td>standard</td>\n",
       "      <td>none</td>\n",
       "      <td>90</td>\n",
       "      <td>95</td>\n",
       "      <td>93</td>\n",
       "    </tr>\n",
       "    <tr>\n",
       "      <th>3</th>\n",
       "      <td>male</td>\n",
       "      <td>group A</td>\n",
       "      <td>associate's degree</td>\n",
       "      <td>free/reduced</td>\n",
       "      <td>none</td>\n",
       "      <td>47</td>\n",
       "      <td>57</td>\n",
       "      <td>44</td>\n",
       "    </tr>\n",
       "    <tr>\n",
       "      <th>4</th>\n",
       "      <td>male</td>\n",
       "      <td>group C</td>\n",
       "      <td>some college</td>\n",
       "      <td>standard</td>\n",
       "      <td>none</td>\n",
       "      <td>76</td>\n",
       "      <td>78</td>\n",
       "      <td>75</td>\n",
       "    </tr>\n",
       "  </tbody>\n",
       "</table>\n",
       "</div>"
      ],
      "text/plain": [
       "   gender race/ethnicity parental level of education         lunch  \\\n",
       "0  female        group B           bachelor's degree      standard   \n",
       "1  female        group C                some college      standard   \n",
       "2  female        group B             master's degree      standard   \n",
       "3    male        group A          associate's degree  free/reduced   \n",
       "4    male        group C                some college      standard   \n",
       "\n",
       "  test preparation course  math score  reading score  writing score  \n",
       "0                    none          72             72             74  \n",
       "1               completed          69             90             88  \n",
       "2                    none          90             95             93  \n",
       "3                    none          47             57             44  \n",
       "4                    none          76             78             75  "
      ]
     },
     "execution_count": 2,
     "metadata": {},
     "output_type": "execute_result"
    }
   ],
   "source": [
    "raw_df = pd.read_csv('data\\StudentsPerformance.csv')\n",
    "raw_df.head()"
   ]
  },
  {
   "cell_type": "code",
   "execution_count": 3,
   "metadata": {},
   "outputs": [
    {
     "name": "stdout",
     "output_type": "stream",
     "text": [
      "   gender race/ethnicity parental level of education         lunch  \\\n",
      "0  female        group B           bachelor's degree      standard   \n",
      "1  female        group C                some college      standard   \n",
      "2  female        group B             master's degree      standard   \n",
      "3    male        group A          associate's degree  free/reduced   \n",
      "4    male        group C                some college      standard   \n",
      "\n",
      "  test preparation course  reading score  writing score  \n",
      "0                    none             72             74  \n",
      "1               completed             90             88  \n",
      "2                    none             95             93  \n",
      "3                    none             57             44  \n",
      "4                    none             78             75  \n",
      "0    72\n",
      "1    69\n",
      "2    90\n",
      "3    47\n",
      "4    76\n",
      "Name: math score, dtype: int64\n"
     ]
    }
   ],
   "source": [
    "raw_df.columns\n",
    "# math score is our target column\n",
    "\n",
    "X = raw_df.drop(columns=['math score'], axis=1)\n",
    "Y = raw_df['math score']\n",
    "\n",
    "print(X.head())\n",
    "print(Y.head())\n"
   ]
  },
  {
   "cell_type": "code",
   "execution_count": 4,
   "metadata": {},
   "outputs": [
    {
     "name": "stdout",
     "output_type": "stream",
     "text": [
      "Total Records - : (1000, 8)\n",
      "X Train Records - : (750, 7)\n",
      "X Test Records - : (250, 7)\n",
      "Y Train Records - : (750,)\n",
      "Y Test Records - : (250,)\n"
     ]
    }
   ],
   "source": [
    "x_train, x_test, y_train, y_test = train_test_split(X, Y, test_size=0.25, random_state=50)\n",
    "print(f'Total Records - : {raw_df.shape}')\n",
    "print(f'X Train Records - : {x_train.shape}')\n",
    "print(f'X Test Records - : {x_test.shape}')\n",
    "print(f'Y Train Records - : {y_train.shape}')\n",
    "print(f'Y Test Records - : {y_test.shape}')"
   ]
  },
  {
   "cell_type": "code",
   "execution_count": 8,
   "metadata": {},
   "outputs": [
    {
     "name": "stdout",
     "output_type": "stream",
     "text": [
      "<class 'pandas.core.frame.DataFrame'>\n"
     ]
    }
   ],
   "source": [
    "print(type(x_train))"
   ]
  },
  {
   "cell_type": "code",
   "execution_count": 5,
   "metadata": {},
   "outputs": [
    {
     "name": "stdout",
     "output_type": "stream",
     "text": [
      "['reading score', 'writing score'] ['gender', 'race/ethnicity', 'parental level of education', 'lunch', 'test preparation course']\n"
     ]
    }
   ],
   "source": [
    "# now we have to apply a pipeline on these data\n",
    "numerical_columns = list(raw_df.select_dtypes(exclude='object').columns)\n",
    "categorical_columns = list(raw_df.select_dtypes(include='object').columns)\n",
    "\n",
    "target_column = 'math score'\n",
    "\n",
    "numerical_columns.remove(target_column)\n",
    "\n",
    "\n",
    "print(numerical_columns, categorical_columns)"
   ]
  },
  {
   "cell_type": "code",
   "execution_count": 18,
   "metadata": {},
   "outputs": [],
   "source": [
    "from sklearn.pipeline import Pipeline\n",
    "from sklearn.compose import ColumnTransformer\n",
    "from sklearn.preprocessing import StandardScaler, OneHotEncoder\n",
    "from sklearn.impute import SimpleImputer\n",
    "\n",
    "# now create a pipeline for both num & cat columns\n",
    "\n",
    "num_pipeline = Pipeline(\n",
    "    steps=[('simple_imputer', SimpleImputer(strategy='median')),\n",
    "           ('standard_scaler', StandardScaler(with_mean=False))]\n",
    ")\n",
    "\n",
    "cat_pipeline = Pipeline(\n",
    "    steps=[('simple_imputer', SimpleImputer(strategy='most_frequent')),\n",
    "           ('one_hot_encoder', OneHotEncoder()),\n",
    "           ('standard_scaler', StandardScaler(with_mean=False))]\n",
    ")\n",
    "\n",
    "preprocessor = ColumnTransformer([('numerical_pipeline', num_pipeline, numerical_columns),\n",
    "                                  ('categorical_pipeline', cat_pipeline, categorical_columns)])\n"
   ]
  },
  {
   "cell_type": "code",
   "execution_count": 7,
   "metadata": {},
   "outputs": [
    {
     "data": {
      "text/plain": [
       "<bound method ColumnTransformer.get_params of ColumnTransformer(transformers=[('numerical_pipeline',\n",
       "                                 Pipeline(steps=[('simple_imputer',\n",
       "                                                  SimpleImputer(strategy='median')),\n",
       "                                                 ('standard_scaler',\n",
       "                                                  StandardScaler(with_mean=False))]),\n",
       "                                 ['reading score', 'writing score']),\n",
       "                                ('categorical_pipeline',\n",
       "                                 Pipeline(steps=[('simple_imputer',\n",
       "                                                  SimpleImputer(strategy='most_frequent')),\n",
       "                                                 ('one_hot_encoder',\n",
       "                                                  OneHotEncoder()),\n",
       "                                                 ('standard_scaler',\n",
       "                                                  StandardScaler(with_mean=False))]),\n",
       "                                 ['gender', 'race/ethnicity',\n",
       "                                  'parental level of education', 'lunch',\n",
       "                                  'test preparation course'])])>"
      ]
     },
     "execution_count": 7,
     "metadata": {},
     "output_type": "execute_result"
    }
   ],
   "source": [
    "preprocessor.get_params"
   ]
  },
  {
   "cell_type": "code",
   "execution_count": 20,
   "metadata": {},
   "outputs": [
    {
     "name": "stdout",
     "output_type": "stream",
     "text": [
      "(750, 7)\n",
      "<class 'numpy.ndarray'> (750, 19)\n"
     ]
    },
    {
     "data": {
      "text/plain": [
       "True"
      ]
     },
     "execution_count": 20,
     "metadata": {},
     "output_type": "execute_result"
    }
   ],
   "source": [
    "train_arr = preprocessor.fit_transform(x_train) \n",
    "print(x_train.shape)\n",
    "print(type(train_arr),train_arr.shape)\n",
    "train_arr[0]\n",
    "type(train_arr)==np.ndarray"
   ]
  },
  {
   "cell_type": "code",
   "execution_count": 16,
   "metadata": {},
   "outputs": [],
   "source": [
    "# we are not scaling target data here, we will try it later\n",
    "# we will test if scaling the target improves the accuracy of the model.\n",
    "train_arr = preprocessor.fit_transform(x_train) \n",
    "test_arr = preprocessor.transform(x_test)\n",
    "\n",
    "type(train_arr)\n",
    "np.array(y_train)\n",
    "\n",
    "train_data_arr = np.c_[train_arr, np.array(y_train)]\n",
    "test_data_arr = np.c_[test_arr, np.array(y_test)]"
   ]
  },
  {
   "cell_type": "code",
   "execution_count": 17,
   "metadata": {},
   "outputs": [
    {
     "data": {
      "text/plain": [
       "array([ 5.45706359,  4.96062705,  2.00445931,  0.        ,  3.4826884 ,\n",
       "        0.        ,  0.        ,  0.        ,  0.        ,  0.        ,\n",
       "        0.        ,  2.5       ,  0.        ,  0.        ,  0.        ,\n",
       "        0.        ,  2.09202783,  2.0974939 ,  0.        , 68.        ])"
      ]
     },
     "execution_count": 17,
     "metadata": {},
     "output_type": "execute_result"
    }
   ],
   "source": [
    "train_data_arr[0]"
   ]
  },
  {
   "cell_type": "code",
   "execution_count": 34,
   "metadata": {},
   "outputs": [
    {
     "data": {
      "text/plain": [
       "array([77., 72., 62., 40., 55., 68., 75., 63., 79., 69., 71., 63., 62.,\n",
       "       57., 64., 53., 50., 64., 67., 53., 70., 71., 74., 81., 55., 77.,\n",
       "       94., 65., 59., 83., 54., 74., 40., 72., 62., 99., 63., 53., 77.,\n",
       "       59., 74., 81., 58., 75., 89., 79., 45., 61., 87., 54., 64., 55.,\n",
       "       62., 61., 69., 65., 68., 65., 67., 57., 57., 49., 55., 69., 48.,\n",
       "       84., 62., 79., 98., 40., 27., 48., 61., 81., 62., 82., 42., 63.,\n",
       "       73., 77., 90., 82., 71., 72., 90., 59., 75., 59., 65., 75., 51.,\n",
       "       90., 80., 58., 77., 72., 78., 65., 50., 57., 29., 58., 75., 69.,\n",
       "       44., 74., 47., 67., 63., 58., 44., 79., 95., 59., 40., 75., 57.,\n",
       "       68., 60., 71., 71., 67., 37., 80., 77., 71., 88., 65., 50., 71.,\n",
       "       59., 59., 53., 71., 53., 75., 47., 79., 64., 92., 56., 45., 90.,\n",
       "       49., 68., 75., 65., 74., 30., 65., 76., 91., 88., 73., 47., 58.,\n",
       "       68., 37., 90., 73., 76., 81., 76., 63., 52., 51., 71., 75., 63.,\n",
       "       46., 80., 65., 71., 75., 48., 80., 55., 55., 69., 77., 65., 81.,\n",
       "       65., 47., 37., 65., 73., 87., 82., 84., 55., 78., 60., 30., 79.,\n",
       "       50., 81., 75., 90., 60., 93., 64., 59., 54., 51., 81., 53., 91.,\n",
       "       44., 61., 73., 49., 78., 58., 76., 67., 88., 53., 55., 63., 68.,\n",
       "       72., 60., 71., 52., 65., 50., 64., 64., 50., 59., 97., 73., 81.,\n",
       "       84., 82., 74., 59., 46., 54., 38., 35., 49., 83., 81., 63., 39.,\n",
       "       69., 59., 62.])"
      ]
     },
     "execution_count": 34,
     "metadata": {},
     "output_type": "execute_result"
    }
   ],
   "source": [
    "test_data_arr[:,-1]"
   ]
  },
  {
   "cell_type": "code",
   "execution_count": 35,
   "metadata": {},
   "outputs": [
    {
     "name": "stdout",
     "output_type": "stream",
     "text": [
      "{'Linear Regression': 0.8426776580200329, 'Lasso Regression': 0.8166904011754234, 'Ridge Regression': 0.8425534811793729, 'KNeighbour regression': 0.46971869112530307, 'Catboost': 0.8176196218133382, 'XGboost': 0.7723098319125012, 'Decision tree Regression': 0.634743601094715}\n"
     ]
    }
   ],
   "source": [
    "x_train, y_train, x_test, y_test = (\n",
    "                train_data_arr[:,:-1],\n",
    "                train_data_arr[:,-1],\n",
    "                test_data_arr[:,:-1],\n",
    "                test_data_arr[:,-1]\n",
    "            )\n",
    "\n",
    "models = {\n",
    "                'Linear Regression': LinearRegression(),\n",
    "                'Lasso Regression': Lasso(),\n",
    "                'Ridge Regression': Ridge(),\n",
    "                'KNeighbour regression': KNeighborsRegressor(),\n",
    "                'Catboost': CatBoostRegressor(verbose=0), # verbose to avoid extra output.\n",
    "                'XGboost': XGBRegressor(),\n",
    "                'Decision tree Regression': DecisionTreeRegressor()\n",
    "            }\n",
    "# we are not doing hyperparameter tuninig at the moment, will be implementing during modular coding.\n",
    "training_results = {}\n",
    "\n",
    "for i in range(len(models.keys())):\n",
    "\n",
    "    model = list(models.values())[i]\n",
    "    model.fit(x_train, y_train)\n",
    "\n",
    "    # will implement hyperparameter tuning part here\n",
    "    # using gridsearch CV\n",
    "\n",
    "    train_pred = model.predict(x_train)\n",
    "    test_pred = model.predict(x_test)\n",
    "\n",
    "    train_score = r2_score(y_train,train_pred)\n",
    "    test_score = r2_score(y_test,test_pred)\n",
    "\n",
    "    training_results[list(models.keys())[i]] = test_score\n",
    "\n",
    "print(training_results)"
   ]
  },
  {
   "cell_type": "code",
   "execution_count": 44,
   "metadata": {},
   "outputs": [
    {
     "data": {
      "text/plain": [
       "array([ 4.31536796e+00,  1.03312316e+01, -7.55925623e+10, -7.55925623e+10,\n",
       "       -9.03254951e+09, -1.23573706e+10, -1.46250232e+10, -1.37287634e+10,\n",
       "       -1.11288435e+10, -8.29047695e+09, -6.51038257e+09, -8.13226223e+09,\n",
       "       -4.62173633e+09, -8.66631936e+09, -7.81078280e+09, -7.92580240e+10,\n",
       "       -7.92580240e+10, -6.35390464e+10, -6.35390464e+10])"
      ]
     },
     "execution_count": 44,
     "metadata": {},
     "output_type": "execute_result"
    }
   ],
   "source": [
    "results_list = list(training_results.items())\n",
    "best_model_name = max(results_list, key= lambda x: x[1])[0]\n",
    "best_model_name\n",
    "best_model = models.get(best_model_name)\n",
    "\n",
    "best_model.coef_"
   ]
  }
 ],
 "metadata": {
  "kernelspec": {
   "display_name": "venv",
   "language": "python",
   "name": "python3"
  },
  "language_info": {
   "codemirror_mode": {
    "name": "ipython",
    "version": 3
   },
   "file_extension": ".py",
   "mimetype": "text/x-python",
   "name": "python",
   "nbconvert_exporter": "python",
   "pygments_lexer": "ipython3",
   "version": "3.9.5"
  },
  "orig_nbformat": 4
 },
 "nbformat": 4,
 "nbformat_minor": 2
}
